{
 "cells": [
  {
   "cell_type": "code",
   "execution_count": 1,
   "id": "ee31c29c-c0f5-4363-8eea-72015f45f481",
   "metadata": {},
   "outputs": [],
   "source": [
    "import pandas as pd"
   ]
  },
  {
   "cell_type": "code",
   "execution_count": 2,
   "id": "9c5c2287-aa0c-4bb7-8f81-46ba170a31ef",
   "metadata": {
    "scrolled": true
   },
   "outputs": [
    {
     "data": {
      "text/plain": [
       "{'Ki2iHgKxRBo': 'Supervised Learning - Georgia Tech - Machine Learning',\n",
       " 'pqXASFHUfhs': 'Induction and Deduction - Georgia Tech - Machine Learning',\n",
       " '1qtfILYSDJY': 'Unsupervised Learning - Georgia Tech - Machine Learning',\n",
       " 'Ee4uH7PaN1M': 'Reinforcement Learning - Georgia Tech - Machine Learning',\n",
       " 'V59IUhkRPDY': 'Comparison of These Parts of ML - Georgia Tech - Machine Learning',\n",
       " 'i04Pfrb71vk': 'Difference between Classification and Regression - Georgia Tech - Machine Learning',\n",
       " 'L29Am_JBNm0': 'Supervised Learning Quiz - Georgia Tech - Machine Learning',\n",
       " 'DZa0puxLd9w': 'Supervised Learning Quiz Quiz Solution - Georgia Tech - Machine Learning',\n",
       " 'IrM0MNi_Kxk': 'Classification Learning One - Georgia Tech - Machine Learning',\n",
       " 'idSVqYRwCDA': 'Classification Learning Two - Georgia Tech - Machine Learning',\n",
       " 'nF3r05N3Edc': 'Classification Learning Three - Georgia Tech - Machine Learning',\n",
       " 'sjnV76u_Nvs': 'Example 1: Dating - Georgia Tech - Machine Learning',\n",
       " 'F8oLgbLh_xo': 'Representation - Georgia Tech - Machine Learning',\n",
       " 'wk1mWB1fdqY': 'Representation Quiz - Georgia Tech - Machine Learning',\n",
       " 'JDLcwBR8Odc': 'Representation Quiz Quiz Solution - Georgia Tech - Machine Learning',\n",
       " 'qW3bOhW2W-s': 'Example 2: 20 Questions - Georgia Tech - Machine Learning',\n",
       " 'nfWU1EwkwwU': 'Decision Trees Learning - Georgia Tech - Machine Learning',\n",
       " 'LthbKTZEyNg': 'Best Attribute Quiz - Georgia Tech - Machine Learning',\n",
       " 'R0OA5e1tFhA': 'Best Attribute Quiz Quiz Solution - Georgia Tech - Machine Learning',\n",
       " '-9TdpdjDtAM': 'Decision Trees Expressiveness AND - Georgia Tech - Machine Learning',\n",
       " 'drna_Y3YNH0': 'Decision Trees Expressiveness OR - Georgia Tech - Machine Learning',\n",
       " 'DFuFDfu-H4E': 'Decision Trees Expressiveness XOR - Georgia Tech - Machine Learning',\n",
       " 'KwMaBd3UitA': 'Decision Tree Expressiveness - Georgia Tech - Machine Learning',\n",
       " 'te5K2prTrhE': 'Decision Tree Expressiveness Quiz - Georgia Tech - Machine Learning',\n",
       " 'z98Lr7105IM': 'Decision Tree Expressiveness Quiz 2 Quiz Solution - Georgia Tech - Machine Learning',\n",
       " 'IX0iGf2wYM0': 'ID3 - Georgia Tech - Machine Learning',\n",
       " 'iBvBbbStx5Y': 'ID3 Bias - Georgia Tech - Machine Learning',\n",
       " 'LgLMX5nYfN4': 'Decision Trees Continuous Attributes - Georgia Tech - Machine Learning',\n",
       " '8VG2dCvsAXE': 'Decision Trees Other Considerations Quiz - Georgia Tech - Machine Learning',\n",
       " 'U90LuOEQEnA': 'Decision Trees Other Considerations Quiz Solution - Georgia Tech - Machine Learning',\n",
       " 'qDMh645ph0Q': 'Decision Trees Other Considerations - Georgia Tech - Machine Learning',\n",
       " 'dE7bgpf0okQ': 'Decision Trees Other Considerations  Regression - Georgia Tech - Machine Learning',\n",
       " 'khM2LClDSs4': 'Decision Trees Wrap up - Georgia Tech - Machine Learning',\n",
       " 'D8PNnttuGZk': 'Regression Quiz - Georgia Tech - Machine Learning',\n",
       " 'XA9vnKoz44A': 'Regression Quiz Solution - Georgia Tech - Machine Learning',\n",
       " 'zQLP2UQDND0': 'Regression and Function Approximation',\n",
       " 'Kto_QBCR9q0': 'Linear Regression',\n",
       " 'dewLtKqna04': 'Quiz Quiz Solution - Georgia Tech - Machine Learning',\n",
       " 'JAMf1QWpcWs': 'Order of Polynomial',\n",
       " 'zA5QNkJspxY': 'intro to charles and michael',\n",
       " 'LQbxOm_L5OM': 'Pick the Degree Quiz - Georgia Tech - Machine Learning',\n",
       " 'nGcMl03LPC0': 'Polynomial Regression',\n",
       " '0URPuafk9Tg': 'Errors Quiz - Georgia Tech - Machine Learning',\n",
       " 'sFO2ff-gTh0': 'Cross Validation',\n",
       " 'lvJzg6SJXbw': 'Housing Example Revisited',\n",
       " 'p0opXBswvWo': 'Other Input Spaces',\n",
       " 'E-9H6v2WqLo': 'Conclusion',\n",
       " 'L_6idb3ZXB0': 'Neural Networks',\n",
       " 'VwCMm3llk1s': 'How Powerful is a Perceptron Unit',\n",
       " 'QA2PatOWYTw': 'How Powerful is a Perceptron Unit Quiz Quiz Solution - Georgia Tech - Machine Learning',\n",
       " 'CXijskL6MkU': 'How Powerful is a Perceptron Unit OR Quiz Quiz Solution - Georgia Tech - Machine Learning',\n",
       " 'dPzpnAEe1hg': 'How Powerful is a Perceptron Unit NOT Quiz Quiz Solution - Georgia Tech - Machine Learning',\n",
       " '2KUq_Ou-7FY': 'XOR as Perceptron Network Quiz - Georgia Tech - Machine Learning',\n",
       " '5rAhHGimTOU': 'XOR as Perceptron Network Quiz Solution - Georgia Tech - Machine Learning',\n",
       " '5g0TPrxKK6o': 'Perceptron Training',\n",
       " '1j4bERmqmOU': 'Gradient Descent',\n",
       " 'zgtepSTqzgc': 'Comparison of Learning Rules',\n",
       " '9qIfStTc7A4': 'Comparison of Learning Rules Quiz - Georgia Tech - Machine Learning',\n",
       " 'ymHKayqpp1E': 'Comparison of Learning Rules Quiz Quiz Solution - Georgia Tech - Machine Learning',\n",
       " 'WcDtwxi7Ick': 'Sigmoid',\n",
       " 'w9OFiOaTFs8': 'Neural Network Sketch',\n",
       " 'mE2N3na1VzI': 'Optimizing Weights',\n",
       " 'UQk_bq2exSM': 'Restriction Bias',\n",
       " 'mzkIMfatv4M': 'Preference Bias',\n",
       " 'ZTjot416e-g': 'Instance Based Learning Before - Georgia Tech - Machine Learning',\n",
       " 'yZBKzXjSg1k': 'Instance Based Learning Now - Georgia Tech - Machine Learning',\n",
       " 'tUw9A-g3scE': 'Cost of the House - Georgia Tech - Machine Learning',\n",
       " '0WELNkvAQz0': 'Cost of the House Two - Georgia Tech - Machine Learning',\n",
       " 'mpU84OJ5vdQ': 'K NN - Georgia Tech - Machine Learning',\n",
       " 'xK3icFAiEJs': 'Wont You Compute My Neighbors Quiz - Georgia Tech - Machine Learning',\n",
       " '1t6Wm37e1VM': 'Wont You Compute My Neighbors Quiz Solution - Georgia Tech - Machine Learning',\n",
       " 'eBt8vTvmsV4': 'Domain K NNowledge Quiz - Georgia Tech - Machine Learning',\n",
       " 'X8tm6x2k_gQ': 'Domain K NNowledge Quiz Solution - Georgia Tech - Machine Learning',\n",
       " 'BXX_L4vd4Bs': 'K NN Bias - Georgia Tech - Machine Learning',\n",
       " 'QZ0DtNFdDko': 'Curse of Dimensionality - Georgia Tech - Machine Learning',\n",
       " 'OyPcbeiwps8': 'Curse of Dimensionality Two - Georgia Tech - Machine Learning',\n",
       " '_GYhs4re3JA': 'Some Other Stuff - Georgia Tech - Machine Learning',\n",
       " 'sCB2j73jzbo': 'What Have We Learned - Georgia Tech - Machine Learning',\n",
       " 'w75WyRjRpAg': 'Ensemble Learning Boosting - Georgia Tech - Machine Learning',\n",
       " 'ZIf4I297fH8': 'Ensemble Learning Simple Rules - Georgia Tech - Machine Learning',\n",
       " 'ETleovojGA4': 'Ensemble Learning Algorithm - Georgia Tech - Machine Learning',\n",
       " 'NtPcPf4nmys': 'Ensemble Learning Outputs Quiz - Georgia Tech - Machine Learning',\n",
       " 'Lc5QcpEdySE': 'Ensemble Learning Outputs Quiz Solution - Georgia Tech - Machine Learning',\n",
       " 'Cn7StaXU_8o': 'Ensemble Learning An Example - Georgia Tech - Machine Learning',\n",
       " '_Z8uJgg92ew': 'Ensemble Boosting - Georgia Tech - Machine Learning',\n",
       " 'zC2rgxxf4dQ': 'Ensemble Boosting Quiz - Georgia Tech - Machine Learning',\n",
       " '6lhp_YSGhEA': 'Ensemble Boosting Quiz Two Quiz Solution - Georgia Tech - Machine Learning',\n",
       " 'zUXJb1hdU0k': 'Weak Learning Quiz - Georgia Tech - Machine Learning',\n",
       " 'lj-IO4uuVR8': 'Weak Learning Quiz Solution - Georgia Tech - Machine Learning',\n",
       " 'ooxQS5-Grgc': 'Boosting In Code - Georgia Tech - Machine Learning',\n",
       " 'iWfmROeYu24': 'The Most Important Parts - Georgia Tech - Machine Learning',\n",
       " 'MpFjG3bAGwk': 'When D agrees Quiz - Georgia Tech - Machine Learning',\n",
       " 'nle0iezRpoo': 'When D agrees Quiz Solution - Georgia Tech - Machine Learning',\n",
       " 'xzqnQQSTEAk': 'Final Hypothesis - Georgia Tech - Machine Learning',\n",
       " 'u1MXf5N3wYU': 'Three Little Boxes - Georgia Tech - Machine Learning',\n",
       " 'zodDmURwMHY': 'Which Hypothesis Quiz Solution - Georgia Tech - Machine Learning',\n",
       " 'OWjjAP4noUE': 'Good Answers - Georgia Tech - Machine Learning',\n",
       " '1AIZsPOhgmE': 'Summary - Georgia Tech - Machine Learning'}"
      ]
     },
     "execution_count": 2,
     "metadata": {},
     "output_type": "execute_result"
    }
   ],
   "source": [
    "file_path = 'reformatted_transcript.csv'\n",
    "df = pd.read_csv(file_path)\n",
    "\n",
    "video_dict = df[['video_id', 'video_name']].drop_duplicates().set_index('video_id').to_dict()['video_name']\n",
    "\n",
    "video_dict"
   ]
  },
  {
   "cell_type": "code",
   "execution_count": null,
   "id": "ff3cff8a-c6df-4814-97eb-340b6e167f70",
   "metadata": {},
   "outputs": [],
   "source": []
  }
 ],
 "metadata": {
  "kernelspec": {
   "display_name": "Python 3 (ipykernel)",
   "language": "python",
   "name": "python3"
  },
  "language_info": {
   "codemirror_mode": {
    "name": "ipython",
    "version": 3
   },
   "file_extension": ".py",
   "mimetype": "text/x-python",
   "name": "python",
   "nbconvert_exporter": "python",
   "pygments_lexer": "ipython3",
   "version": "3.11.5"
  }
 },
 "nbformat": 4,
 "nbformat_minor": 5
}
